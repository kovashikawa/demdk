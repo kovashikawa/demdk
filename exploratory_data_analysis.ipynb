{
 "cells": [
  {
   "attachments": {
    "image.png": {
     "image/png": "[encoded data removed]"
    }
   },
   "cell_type": "markdown",
   "metadata": {},
   "source": [
    "![image.png](attachment:image.png)\n",
    "\n",
    "# Modak - data engineer challenge"
   ]
  },
  {
   "cell_type": "markdown",
   "metadata": {},
   "source": [
    "## 1. Libs"
   ]
  },
  {
   "cell_type": "code",
   "execution_count": 4,
   "metadata": {},
   "outputs": [],
   "source": [
    "import pandas as pd\n",
    "import numpy as np\n",
    "import json\n",
    "\n",
    "import matplotlib.pyplot as plt\n",
    "import seaborn as sns"
   ]
  },
  {
   "cell_type": "markdown",
   "metadata": {},
   "source": [
    "## 2. Data loading"
   ]
  },
  {
   "cell_type": "code",
   "execution_count": 29,
   "metadata": {},
   "outputs": [
    {
     "data": {
      "text/html": [
       "<div>\n",
       "<style scoped>\n",
       "    .dataframe tbody tr th:only-of-type {\n",
       "        vertical-align: middle;\n",
       "    }\n",
       "\n",
       "    .dataframe tbody tr th {\n",
       "        vertical-align: top;\n",
       "    }\n",
       "\n",
       "    .dataframe thead th {\n",
       "        text-align: right;\n",
       "    }\n",
       "</style>\n",
       "<table border=\"1\" class=\"dataframe\">\n",
       "  <thead>\n",
       "    <tr style=\"text-align: right;\">\n",
       "      <th></th>\n",
       "      <th>uuid</th>\n",
       "      <th>creation_date</th>\n",
       "      <th>frequency</th>\n",
       "      <th>day</th>\n",
       "      <th>updated_at</th>\n",
       "      <th>next_payment_day</th>\n",
       "      <th>status</th>\n",
       "    </tr>\n",
       "  </thead>\n",
       "  <tbody>\n",
       "    <tr>\n",
       "      <th>0</th>\n",
       "      <td>30f4e25e-3e37-462e-8c3c-42f24f54350f</td>\n",
       "      <td>1724838709</td>\n",
       "      <td>monthly</td>\n",
       "      <td>fifteenth_day</td>\n",
       "      <td>2024-10-15T08:00:41.445627563Z</td>\n",
       "      <td>15</td>\n",
       "      <td>enabled</td>\n",
       "    </tr>\n",
       "    <tr>\n",
       "      <th>1</th>\n",
       "      <td>6da398ad-079d-49b9-8668-6d7ce4d22683</td>\n",
       "      <td>1724659829</td>\n",
       "      <td>monthly</td>\n",
       "      <td>fifteenth_day</td>\n",
       "      <td>1724659829</td>\n",
       "      <td>15</td>\n",
       "      <td>enabled</td>\n",
       "    </tr>\n",
       "    <tr>\n",
       "      <th>2</th>\n",
       "      <td>2d30fe2d-6c32-4b8a-a19b-906184f64f62</td>\n",
       "      <td>1731309159</td>\n",
       "      <td>monthly</td>\n",
       "      <td>fifteenth_day</td>\n",
       "      <td>1731309159</td>\n",
       "      <td>15</td>\n",
       "      <td>enabled</td>\n",
       "    </tr>\n",
       "    <tr>\n",
       "      <th>3</th>\n",
       "      <td>c30180f3-b35c-470c-b25a-f12ec4ce3340</td>\n",
       "      <td>1725414982</td>\n",
       "      <td>monthly</td>\n",
       "      <td>first_day</td>\n",
       "      <td>2024-10-01T08:00:37.516552581Z</td>\n",
       "      <td>1</td>\n",
       "      <td>enabled</td>\n",
       "    </tr>\n",
       "    <tr>\n",
       "      <th>4</th>\n",
       "      <td>9f5768db-e953-4057-9fa5-264c46293fbd</td>\n",
       "      <td>1726267511</td>\n",
       "      <td>biweekly</td>\n",
       "      <td>friday</td>\n",
       "      <td>2024-10-02T02:33:10.97923183Z</td>\n",
       "      <td>11</td>\n",
       "      <td>disabled</td>\n",
       "    </tr>\n",
       "  </tbody>\n",
       "</table>\n",
       "</div>"
      ],
      "text/plain": [
       "                                   uuid  creation_date frequency  \\\n",
       "0  30f4e25e-3e37-462e-8c3c-42f24f54350f     1724838709   monthly   \n",
       "1  6da398ad-079d-49b9-8668-6d7ce4d22683     1724659829   monthly   \n",
       "2  2d30fe2d-6c32-4b8a-a19b-906184f64f62     1731309159   monthly   \n",
       "3  c30180f3-b35c-470c-b25a-f12ec4ce3340     1725414982   monthly   \n",
       "4  9f5768db-e953-4057-9fa5-264c46293fbd     1726267511  biweekly   \n",
       "\n",
       "             day                      updated_at  next_payment_day    status  \n",
       "0  fifteenth_day  2024-10-15T08:00:41.445627563Z                15   enabled  \n",
       "1  fifteenth_day                      1724659829                15   enabled  \n",
       "2  fifteenth_day                      1731309159                15   enabled  \n",
       "3      first_day  2024-10-01T08:00:37.516552581Z                 1   enabled  \n",
       "4         friday   2024-10-02T02:33:10.97923183Z                11  disabled  "
      ]
     },
     "execution_count": 29,
     "metadata": {},
     "output_type": "execute_result"
    }
   ],
   "source": [
    "allowance_backend_table = pd.read_csv('data/allowance_backend_table.csv')\n",
    "allowance_backend_table.head()"
   ]
  },
  {
   "cell_type": "code",
   "execution_count": 14,
   "metadata": {},
   "outputs": [
    {
     "data": {
      "text/html": [
       "<div>\n",
       "<style scoped>\n",
       "    .dataframe tbody tr th:only-of-type {\n",
       "        vertical-align: middle;\n",
       "    }\n",
       "\n",
       "    .dataframe tbody tr th {\n",
       "        vertical-align: top;\n",
       "    }\n",
       "\n",
       "    .dataframe thead th {\n",
       "        text-align: right;\n",
       "    }\n",
       "</style>\n",
       "<table border=\"1\" class=\"dataframe\">\n",
       "  <thead>\n",
       "    <tr style=\"text-align: right;\">\n",
       "      <th></th>\n",
       "      <th>user_id</th>\n",
       "      <th>payment_date</th>\n",
       "    </tr>\n",
       "  </thead>\n",
       "  <tbody>\n",
       "    <tr>\n",
       "      <th>0</th>\n",
       "      <td>061d8039-b332-40ca-b906-3514b06411c2</td>\n",
       "      <td>22</td>\n",
       "    </tr>\n",
       "    <tr>\n",
       "      <th>1</th>\n",
       "      <td>0ca92d01-feed-42e5-b90c-299b615f9d3f</td>\n",
       "      <td>22</td>\n",
       "    </tr>\n",
       "    <tr>\n",
       "      <th>2</th>\n",
       "      <td>160bcd2d-3ab0-4a60-9bfa-ccfcc1ee17e4</td>\n",
       "      <td>22</td>\n",
       "    </tr>\n",
       "    <tr>\n",
       "      <th>3</th>\n",
       "      <td>1649fee7-c424-4fb7-ac84-db36e15e042a</td>\n",
       "      <td>22</td>\n",
       "    </tr>\n",
       "    <tr>\n",
       "      <th>4</th>\n",
       "      <td>1d647703-874d-4744-b4de-6a5212518aa8</td>\n",
       "      <td>22</td>\n",
       "    </tr>\n",
       "  </tbody>\n",
       "</table>\n",
       "</div>"
      ],
      "text/plain": [
       "                                user_id  payment_date\n",
       "0  061d8039-b332-40ca-b906-3514b06411c2            22\n",
       "1  0ca92d01-feed-42e5-b90c-299b615f9d3f            22\n",
       "2  160bcd2d-3ab0-4a60-9bfa-ccfcc1ee17e4            22\n",
       "3  1649fee7-c424-4fb7-ac84-db36e15e042a            22\n",
       "4  1d647703-874d-4744-b4de-6a5212518aa8            22"
      ]
     },
     "execution_count": 14,
     "metadata": {},
     "output_type": "execute_result"
    }
   ],
   "source": [
    "payment_schedule_backend_table = pd.read_csv('data/payment_schedule_backend_table.csv')\n",
    "payment_schedule_backend_table.head()"
   ]
  },
  {
   "cell_type": "code",
   "execution_count": null,
   "metadata": {},
   "outputs": [
    {
     "data": {
      "text/html": [
       "<div>\n",
       "<style scoped>\n",
       "    .dataframe tbody tr th:only-of-type {\n",
       "        vertical-align: middle;\n",
       "    }\n",
       "\n",
       "    .dataframe tbody tr th {\n",
       "        vertical-align: top;\n",
       "    }\n",
       "\n",
       "    .dataframe thead th {\n",
       "        text-align: right;\n",
       "    }\n",
       "</style>\n",
       "<table border=\"1\" class=\"dataframe\">\n",
       "  <thead>\n",
       "    <tr style=\"text-align: right;\">\n",
       "      <th></th>\n",
       "      <th>user.id</th>\n",
       "      <th>event.timestamp</th>\n",
       "      <th>event.name</th>\n",
       "      <th>allowance.scheduled.frequency</th>\n",
       "      <th>allowance.scheduled.day</th>\n",
       "      <th>allowance.amount</th>\n",
       "    </tr>\n",
       "  </thead>\n",
       "  <tbody>\n",
       "    <tr>\n",
       "      <th>0</th>\n",
       "      <td>03c5ffe8-6cd2-434b-a1b2-c4006860d94c</td>\n",
       "      <td>2024-09-21 01:39:34</td>\n",
       "      <td>allowance.created</td>\n",
       "      <td>weekly</td>\n",
       "      <td>sunday</td>\n",
       "      <td>10</td>\n",
       "    </tr>\n",
       "    <tr>\n",
       "      <th>1</th>\n",
       "      <td>03c5ffe8-6cd2-434b-a1b2-c4006860d94c</td>\n",
       "      <td>2024-09-22 19:38:22</td>\n",
       "      <td>allowance.edited</td>\n",
       "      <td>weekly</td>\n",
       "      <td>sunday</td>\n",
       "      <td>10</td>\n",
       "    </tr>\n",
       "    <tr>\n",
       "      <th>2</th>\n",
       "      <td>03c5ffe8-6cd2-434b-a1b2-c4006860d94c</td>\n",
       "      <td>2024-09-22 19:38:22</td>\n",
       "      <td>allowance.edited</td>\n",
       "      <td>weekly</td>\n",
       "      <td>sunday</td>\n",
       "      <td>10</td>\n",
       "    </tr>\n",
       "    <tr>\n",
       "      <th>3</th>\n",
       "      <td>05384674-4af8-4f70-8d8f-90e19b0db971</td>\n",
       "      <td>2024-10-06 06:32:28</td>\n",
       "      <td>allowance.created</td>\n",
       "      <td>biweekly</td>\n",
       "      <td>friday</td>\n",
       "      <td>10</td>\n",
       "    </tr>\n",
       "    <tr>\n",
       "      <th>4</th>\n",
       "      <td>05384674-4af8-4f70-8d8f-90e19b0db971</td>\n",
       "      <td>2024-10-06 06:32:37</td>\n",
       "      <td>allowance.edited</td>\n",
       "      <td>weekly</td>\n",
       "      <td>friday</td>\n",
       "      <td>10</td>\n",
       "    </tr>\n",
       "  </tbody>\n",
       "</table>\n",
       "</div>"
      ],
      "text/plain": [
       "                                user.id     event.timestamp  \\\n",
       "0  03c5ffe8-6cd2-434b-a1b2-c4006860d94c 2024-09-21 01:39:34   \n",
       "1  03c5ffe8-6cd2-434b-a1b2-c4006860d94c 2024-09-22 19:38:22   \n",
       "2  03c5ffe8-6cd2-434b-a1b2-c4006860d94c 2024-09-22 19:38:22   \n",
       "3  05384674-4af8-4f70-8d8f-90e19b0db971 2024-10-06 06:32:28   \n",
       "4  05384674-4af8-4f70-8d8f-90e19b0db971 2024-10-06 06:32:37   \n",
       "\n",
       "          event.name allowance.scheduled.frequency allowance.scheduled.day  \\\n",
       "0  allowance.created                        weekly                  sunday   \n",
       "1   allowance.edited                        weekly                  sunday   \n",
       "2   allowance.edited                        weekly                  sunday   \n",
       "3  allowance.created                      biweekly                  friday   \n",
       "4   allowance.edited                        weekly                  friday   \n",
       "\n",
       "   allowance.amount  \n",
       "0                10  \n",
       "1                10  \n",
       "2                10  \n",
       "3                10  \n",
       "4                10  "
      ]
     },
     "execution_count": 22,
     "metadata": {},
     "output_type": "execute_result"
    }
   ],
   "source": [
    "with open('data/allowance_events.json') as f:\n",
    "    allowance_events_json = json.load(f)\n",
    "allowance_events = pd.json_normalize(allowance_events_json)\n",
    "allowance_events.head()"
   ]
  },
  {
   "cell_type": "markdown",
   "metadata": {},
   "source": [
    "## 3. Data transformation"
   ]
  },
  {
   "cell_type": "code",
   "execution_count": 20,
   "metadata": {},
   "outputs": [],
   "source": [
    "def parse_unix_or_date(val):\n",
    "    \"\"\"\n",
    "    Convert a mixed-format value from the updated_at column to a datetime.\n",
    "    If the value is numeric (or a numeric string), treat it as a Unix timestamp.\n",
    "    Otherwise, assume it's an ISO-formatted datetime string.\n",
    "    \"\"\"\n",
    "    # Check if the value is a string and represents digits only.\n",
    "    if isinstance(val, str) and val.isdigit():\n",
    "        return pd.to_datetime(val, unit='s')\n",
    "    # If the value is already numeric, convert from Unix timestamp.\n",
    "    elif isinstance(val, (int, float)):\n",
    "        return pd.to_datetime(val, unit='s')\n",
    "    else:\n",
    "        # Otherwise, attempt to parse as a datetime string.\n",
    "        return pd.to_datetime(val, errors='coerce')"
   ]
  },
  {
   "cell_type": "code",
   "execution_count": null,
   "metadata": {},
   "outputs": [],
   "source": []
  },
  {
   "cell_type": "markdown",
   "metadata": {},
   "source": [
    "#### Allowance Backend Table (`allowance_backend_table`)  \n",
    "* Purpose: Stores the current allowance settings for each user, reflecting their \n",
    "most recent allowance configuration.  \n",
    "* Operation:  \n",
    "  * When a user creates or edits an allowance, this table should be updated \n",
    "to reflect the latest `frequency`, `day`, and `next_payment_day`.  \n",
    "  * The `next_payment_day` field should accurately represent the upcoming \n",
    "payment date based on the user's allowance settings.  \n",
    "  * The allowances get created with the `status` column `enabled`, but the \n",
    "users can turn them to `disabled`. Make sure you only use the enabled \n",
    "allowances.  \n",
    "* Potential Issues:  \n",
    "  * Discrepancies during the affected period may have resulted in incorrect \n",
    "`next_payment_day` values in this table.  "
   ]
  },
  {
   "cell_type": "code",
   "execution_count": 28,
   "metadata": {},
   "outputs": [],
   "source": [
    "allowance_backend_table['creation_date'] = allowance_backend_table['creation_date'].apply(parse_unix_or_date)\n",
    "allowance_backend_table['updated_at'] = allowance_backend_table['updated_at'].apply(parse_unix_or_date)"
   ]
  },
  {
   "cell_type": "markdown",
   "metadata": {},
   "source": [
    "#### Payment Schedule Backend Table (`payment_schedule_backend_table`) \n",
    "* Purpose: Manages the scheduling of payments to users based on their \n",
    "allowance settings.  \n",
    "* Operation:  \n",
    "  * Each user should only have one active record in this table at any time. \n",
    "  * When a payment is made:  \n",
    "    * The current record for the user is deleted.  \n",
    "    * A new record is created with the upcoming payment_date.  \n",
    "  * The `payment_date` should align with the `next_payment_day` from the \n",
    "`allowance_backend_table`.  \n",
    "  * Users who disable the allowance should not have any active record.  \n",
    "* Potential Issues: \n",
    "  * Errors during the affected period may have resulted in users having  \n",
    "multiple records or incorrect `payment_date` values in this table."
   ]
  },
  {
   "cell_type": "code",
   "execution_count": 30,
   "metadata": {},
   "outputs": [
    {
     "data": {
      "text/html": [
       "<div>\n",
       "<style scoped>\n",
       "    .dataframe tbody tr th:only-of-type {\n",
       "        vertical-align: middle;\n",
       "    }\n",
       "\n",
       "    .dataframe tbody tr th {\n",
       "        vertical-align: top;\n",
       "    }\n",
       "\n",
       "    .dataframe thead th {\n",
       "        text-align: right;\n",
       "    }\n",
       "</style>\n",
       "<table border=\"1\" class=\"dataframe\">\n",
       "  <thead>\n",
       "    <tr style=\"text-align: right;\">\n",
       "      <th></th>\n",
       "      <th>count</th>\n",
       "      <th>mean</th>\n",
       "      <th>std</th>\n",
       "      <th>min</th>\n",
       "      <th>25%</th>\n",
       "      <th>50%</th>\n",
       "      <th>75%</th>\n",
       "      <th>max</th>\n",
       "    </tr>\n",
       "  </thead>\n",
       "  <tbody>\n",
       "    <tr>\n",
       "      <th>payment_date</th>\n",
       "      <td>2139.0</td>\n",
       "      <td>11.257129</td>\n",
       "      <td>8.212922</td>\n",
       "      <td>1.0</td>\n",
       "      <td>6.0</td>\n",
       "      <td>9.0</td>\n",
       "      <td>15.0</td>\n",
       "      <td>31.0</td>\n",
       "    </tr>\n",
       "  </tbody>\n",
       "</table>\n",
       "</div>"
      ],
      "text/plain": [
       "               count       mean       std  min  25%  50%   75%   max\n",
       "payment_date  2139.0  11.257129  8.212922  1.0  6.0  9.0  15.0  31.0"
      ]
     },
     "execution_count": 30,
     "metadata": {},
     "output_type": "execute_result"
    }
   ],
   "source": [
    "payment_schedule_backend_table.describe().T"
   ]
  },
  {
   "cell_type": "code",
   "execution_count": 31,
   "metadata": {},
   "outputs": [
    {
     "data": {
      "image/png": "[encoded data removed]",
      "text/plain": [
       "<Figure size 2000x500 with 1 Axes>"
      ]
     },
     "metadata": {},
     "output_type": "display_data"
    }
   ],
   "source": [
    "# Plot distribution\n",
    "plt.figure(figsize=(20, 5))\n",
    "sns.histplot(payment_schedule_backend_table[\"payment_date\"], kde=True, bins=10)\n",
    "plt.xlabel(\"Payment Date\")\n",
    "plt.ylabel(\"Frequency\")\n",
    "plt.title(\"Distribution of Payment Dates\")\n",
    "plt.show()"
   ]
  },
  {
   "cell_type": "markdown",
   "metadata": {},
   "source": [
    "#### `allowance_events` (JSON)  \n",
    "This dataset captures the creation and updates of user allowances during the affected \n",
    "period.  \n",
    "*○* Fields:  \n",
    "  * `event.name`: The type of event, either allowance.created or  \n",
    "allowance.edited.  \n",
    "  * `event.timestamp`: Timestamp of the event.  \n",
    "  * `user.id`: Unique identifier for the user.  \n",
    "  * `allowance.amount`: Allowance amount.  \n",
    "  * `allowance.scheduled.frequency`: Frequency of the allowance: \n",
    "`daily`, `weekly`, `biweekly`, or `monthly`.  \n",
    "  * `allowance.scheduled.day`:  \n",
    "    * \"daily\" for daily frequency.  \n",
    "    * Day of the week for weekly/biweekly schedules.  \n",
    "    * `\"1st\"` or `\"15th\"` for monthly schedules."
   ]
  },
  {
   "cell_type": "code",
   "execution_count": null,
   "metadata": {},
   "outputs": [],
   "source": [
    "\n",
    "allowance_events['event.timestamp'] = allowance_events['event.timestamp'].apply(parse_unix_or_date)"
   ]
  }
 ],
 "metadata": {
  "kernelspec": {
   "display_name": "Python 3 (ipykernel)",
   "language": "python",
   "name": "python3"
  },
  "language_info": {
   "codemirror_mode": {
    "name": "ipython",
    "version": 3
   },
   "file_extension": ".py",
   "mimetype": "text/x-python",
   "name": "python",
   "nbconvert_exporter": "python",
   "pygments_lexer": "ipython3",
   "version": "3.12.2"
  }
 },
 "nbformat": 4,
 "nbformat_minor": 2
}
